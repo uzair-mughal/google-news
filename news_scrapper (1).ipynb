{
 "cells": [
  {
   "cell_type": "code",
   "execution_count": 1,
   "id": "df2db275",
   "metadata": {},
   "outputs": [],
   "source": [
    "import newspaper\n",
    "import pandas as pd\n",
    "from datetime import datetime\n",
    "from pygooglenews import GoogleNews\n",
    "\n",
    "import warnings\n",
    "warnings.filterwarnings(\"ignore\")"
   ]
  },
  {
   "cell_type": "code",
   "execution_count": 2,
   "id": "81f9baa8",
   "metadata": {},
   "outputs": [],
   "source": [
    "dates = pd.date_range(start=\"2022-01-01\",end=\"2022-07-31\").astype('str')\n",
    "data = pd.DataFrame(columns=['title', 'text', 'published_date'])\n",
    "logs = pd.DataFrame(columns=['start', 'end', 'total_links'])\n",
    "\n",
    "# data = pd.read_csv('data.csv')\n",
    "# logs = pd.read_csv('logs.csv')\n",
    "\n",
    "with open('proxies.txt', 'r') as f:\n",
    "    proxies = f.read().splitlines() "
   ]
  },
  {
   "cell_type": "code",
   "execution_count": 3,
   "id": "d717c70b",
   "metadata": {},
   "outputs": [],
   "source": [
    "def get_links(start, end, query):\n",
    "    try:\n",
    "\n",
    "        response = gn.search(query, from_ = start, to_ = end)\n",
    "        return response['entries']\n",
    "    except Exception as exp:\n",
    "        for proxy in proxies:\n",
    "            try:\n",
    "                response = gn.search(query, from_=start, to_=end, proxies=proxy)\n",
    "                return response['entries']\n",
    "            except:\n",
    "                pass"
   ]
  },
  {
   "cell_type": "code",
   "execution_count": 4,
   "id": "9e1a981d",
   "metadata": {},
   "outputs": [],
   "source": [
    "def get_article(link):\n",
    "    try:\n",
    "        article = newspaper.Article(url=link, languge='en')\n",
    "        article.download()\n",
    "        article.parse()\n",
    "        \n",
    "        return {\n",
    "            \"title\": str(article.title),\n",
    "            \"text\": str(article.text),\n",
    "            \"published_date\": str(article.publish_date)\n",
    "        }\n",
    "    except:\n",
    "        pass"
   ]
  },
  {
   "cell_type": "code",
   "execution_count": null,
   "id": "60634005",
   "metadata": {},
   "outputs": [
    {
     "name": "stdout",
     "output_type": "stream",
     "text": [
      "On country: AU\n",
      "{'start': '2022-01-01', 'end': '2022-01-02', 'total_links': 114}\n"
     ]
    }
   ],
   "source": [
    "for country in ['AU', 'US', 'UK', 'FR', 'CA', 'DE', 'IE', 'NZ']:\n",
    "    gn = GoogleNews(lang='en', country=country) \n",
    "    for i in range(0, len(dates), 2):\n",
    "        links = [entry['link'] for query in ['Business News', 'Sports News', 'Entertainment', 'Worlds News', 'Nation News',\n",
    "                                             'Technology News', 'Entertainment News', 'Science News', 'Health News']\n",
    "                                             for entry in get_links(dates[i], dates[i+1], query)]\n",
    "        \n",
    "        print('On country: {ctry}'.format(ctry=country))\n",
    "        print({'start': dates[i],'end': dates[i+1], 'total_links': len(links)})\n",
    "        logs = logs.append({'start': dates[i],'end': dates[i+1], 'total_links': len(links)}, ignore_index=True)\n",
    "        \n",
    "        articles = list(map(get_article, links))\n",
    "        Not_none_values = filter(None.__ne__, articles)\n",
    "        articles = list(Not_none_values)\n",
    "        print(\"Articles recieved: \"+str(len(articles)))\n",
    "        data = data.append(pd.DataFrame(articles), ignore_index=True)\n",
    "\n",
    "        logs.to_csv('logs.csv', index=False)\n",
    "        data.to_csv('data.csv', index=False)"
   ]
  },
  {
   "cell_type": "code",
   "execution_count": null,
   "id": "faa80e8f",
   "metadata": {},
   "outputs": [],
   "source": []
  }
 ],
 "metadata": {
  "kernelspec": {
   "display_name": "Python 3",
   "language": "python",
   "name": "python3"
  },
  "language_info": {
   "codemirror_mode": {
    "name": "ipython",
    "version": 3
   },
   "file_extension": ".py",
   "mimetype": "text/x-python",
   "name": "python",
   "nbconvert_exporter": "python",
   "pygments_lexer": "ipython3",
   "version": "3.10.6"
  },
  "vscode": {
   "interpreter": {
    "hash": "916dbcbb3f70747c44a77c7bcd40155683ae19c65e1c03b4aa3499c5328201f1"
   }
  }
 },
 "nbformat": 4,
 "nbformat_minor": 5
}
